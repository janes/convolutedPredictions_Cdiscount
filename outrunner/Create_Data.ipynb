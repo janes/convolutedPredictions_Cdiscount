{
 "cells": [
  {
   "cell_type": "code",
   "execution_count": 1,
   "metadata": {},
   "outputs": [],
   "source": [
    "import bson\n",
    "import numpy as np\n",
    "import pandas as pd\n",
    "import os\n",
    "from tqdm import tqdm_notebook\n",
    "from skimage.data import imread\n",
    "import io"
   ]
  },
  {
   "cell_type": "code",
   "execution_count": 4,
   "metadata": {},
   "outputs": [
    {
     "data": {
      "application/vnd.jupyter.widget-view+json": {
       "model_id": "9609b1f766fb4f31b9144111b2abd93b",
       "version_major": 2,
       "version_minor": 0
      },
      "text/plain": [
       "A Jupyter Widget"
      ]
     },
     "metadata": {},
     "output_type": "display_data"
    },
    {
     "name": "stdout",
     "output_type": "stream",
     "text": [
      "\n"
     ]
    }
   ],
   "source": [
    "categories = pd.read_csv('category_names.csv')\n",
    "\n",
    "os.mkdir('train')\n",
    "os.mkdir('test')\n",
    "    \n",
    "for category in tqdm_notebook(categories.index):\n",
    "    os.mkdir(os.path.join('train', str(category)))\n",
    "    \n",
    "os.mkdir('checkpoints')\n",
    "os.mkdir('predict')\n",
    "\n",
    "a3 = ['a3', 'a3_n1', 'a3_n6', 'a3_x1', 'a3_x2']\n",
    "v2 = ['v2', 'v2_n1', 'v2_x1', 'v2_x2']\n",
    "\n",
    "for model in a3:\n",
    "    os.mkdir(os.path.join('checkpoints', model))\n",
    "    os.mkdir(os.path.join('predict', model))\n",
    "    \n",
    "for model in v2:\n",
    "    os.mkdir(os.path.join('checkpoints', model))\n",
    "    os.mkdir(os.path.join('predict', model))\n",
    "    "
   ]
  },
  {
   "cell_type": "code",
   "execution_count": null,
   "metadata": {
    "collapsed": true
   },
   "outputs": [],
   "source": [
    "num_products = 7069896  # 7069896 for train and 1768182 for test\n",
    "out_folder = 'train'\n",
    "\n",
    "bar = tqdm_notebook(total=num_products)\n",
    "\n",
    "train = []\n",
    "train_imgs = []\n",
    "with open('train.bson', 'rb') as fbson:\n",
    "\n",
    "    data = bson.decode_file_iter(fbson)\n",
    "    \n",
    "    for c, d in enumerate(data):\n",
    "        category = d['category_id']\n",
    "        _id = d['_id']\n",
    "        for e, pic in enumerate(d['imgs']):\n",
    "            fname = os.path.join(str(category), '{}-{}.jpg'.format(_id, e))\n",
    "            \n",
    "            with open(fname, 'wb') as f:\n",
    "                f.write(pic['picture'])\n",
    "            \n",
    "            train.append([fname, _id, category, np.where(categories.category_id.values==category)[0][0]])\n",
    "\n",
    "        train_imgs.append([_id, category, len(d['imgs'])])\n",
    "        \n",
    "        bar.update()"
   ]
  },
  {
   "cell_type": "code",
   "execution_count": null,
   "metadata": {
    "collapsed": true
   },
   "outputs": [],
   "source": [
    "num_products = 1768182\n",
    "bar = tqdm_notebook(total=num_products)\n",
    "\n",
    "out_folder = 'test'\n",
    "test_imgs = []\n",
    "\n",
    "with open('test.bson', 'rb') as fbson:\n",
    "\n",
    "    data = bson.decode_file_iter(fbson)\n",
    "    \n",
    "    for c, d in enumerate(data):\n",
    "        _id = d['_id']\n",
    "        for e, pic in enumerate(d['imgs']):\n",
    "            fname = '{}-{}.jpg'.format(_id, e)\n",
    "            \n",
    "            with open(fname, 'wb') as f:\n",
    "                f.write(pic['picture'])\n",
    "                \n",
    "        test_imgs.append([_id, len(d['imgs'])])\n",
    "\n",
    "        bar.update()"
   ]
  },
  {
   "cell_type": "code",
   "execution_count": null,
   "metadata": {
    "collapsed": true
   },
   "outputs": [],
   "source": [
    "np.random.shuffle(np.array(train))\n",
    "df = pd.DataFrame(train)\n",
    "df.to_csv('train2.csv')\n",
    "\n",
    "df2 = pd.DataFrame(train_imgs, columns=['_id', 'category_id', 'n_images'])\n",
    "df2.to_csv('train_imgs.csv')\n",
    "\n",
    "for i in range(len(df2)):\n",
    "    label = np.where(categories.category_id.values==df2.loc[i, 'category_id'])[0][0]\n",
    "    df2.set_value(i,'y', label)\n",
    "\n",
    "df2.y = df2.y.astype('int64')\n",
    "\n",
    "df4 = df2.sample(frac=1).reset_index(drop=True)\n",
    "df4[['_id', 'category_id', 'n_images', 'y']].to_csv('train4.csv', index=False)\n",
    "\n",
    "df3 = pd.DataFrame(test_imgs, columns=['_id', 'n_images'])\n",
    "df3.to_csv('test_imgs.csv')"
   ]
  },
  {
   "cell_type": "code",
   "execution_count": 4,
   "metadata": {
    "collapsed": true
   },
   "outputs": [],
   "source": []
  }
 ],
 "metadata": {
  "kernelspec": {
   "display_name": "Python 3",
   "language": "python",
   "name": "python3"
  },
  "language_info": {
   "codemirror_mode": {
    "name": "ipython",
    "version": 3
   },
   "file_extension": ".py",
   "mimetype": "text/x-python",
   "name": "python",
   "nbconvert_exporter": "python",
   "pygments_lexer": "ipython3",
   "version": "3.6.3"
  }
 },
 "nbformat": 4,
 "nbformat_minor": 2
}
