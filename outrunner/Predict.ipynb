{
 "cells": [
  {
   "cell_type": "code",
   "execution_count": null,
   "metadata": {},
   "outputs": [],
   "source": [
    "from keras.applications.inception_resnet_v2 import InceptionResNetV2\n",
    "import numpy as np\n",
    "import cv2\n",
    "from keras.layers import Dense, Concatenate\n",
    "from keras.models import Model\n",
    "\n",
    "import pandas as pd\n",
    "import os\n",
    "from tqdm import tqdm_notebook\n",
    "import io\n",
    "\n",
    "import tensorflow as tf\n",
    "from keras.backend.tensorflow_backend import set_session, clear_session\n",
    "from keras.optimizers import Adam, RMSprop, SGD\n",
    "from keras.callbacks import ModelCheckpoint\n",
    "import glob"
   ]
  },
  {
   "cell_type": "code",
   "execution_count": null,
   "metadata": {},
   "outputs": [],
   "source": [
    "a3 = ['a3', 'a3_n1', 'a3_n6', 'a3_x1', 'a3_x2', 'a3_x3', 'a3_x4']\n",
    "v2 = ['v2', 'v2_n1', 'v2_x1']\n",
    "\n",
    "if os.path.isdir('predict') == False:\n",
    "    os.mkdir('predict')\n",
    "\n",
    "    for model in a3:\n",
    "        os.mkdir(os.path.join('predict', model))\n",
    "        \n",
    "    for model in v2:\n",
    "        os.mkdir(os.path.join('predict', model))"
   ]
  },
  {
   "cell_type": "code",
   "execution_count": null,
   "metadata": {},
   "outputs": [],
   "source": [
    "clear_session()\n",
    "config = tf.ConfigProto()\n",
    "config.gpu_options.visible_device_list= '0'\n",
    "#config.gpu_options.per_process_gpu_memory_fraction = 0.09\n",
    "set_session(tf.Session(config=config))"
   ]
  },
  {
   "cell_type": "code",
   "execution_count": null,
   "metadata": {},
   "outputs": [],
   "source": [
    "width = 171\n",
    "up_width = 203\n",
    "input_shape=(width, width, 3)\n",
    "base_model = InceptionResNetV2(include_top=False, weights='imagenet', input_shape=input_shape, pooling='avg')\n",
    "x = base_model.output\n",
    "predictions = Dense(5270, activation='softmax', name='predictions')(x)\n",
    "model = Model(inputs=base_model.input, outputs=predictions)"
   ]
  },
  {
   "cell_type": "code",
   "execution_count": null,
   "metadata": {},
   "outputs": [],
   "source": [
    "def color(rgb, color_var):\n",
    "    r = 1. - color_var + 2 * color_var * np.random.random() \n",
    "    g = 1. - color_var + 2 * color_var * np.random.random() \n",
    "    b = 1. - color_var + 2 * color_var * np.random.random() \n",
    "    rgb[:,:,0] = 255*(rgb[:,:,0]/255)**b\n",
    "    rgb[:,:,1] = 255*(rgb[:,:,1]/255)**g\n",
    "    rgb[:,:,2] = 255*(rgb[:,:,2]/255)**r\n",
    "    return np.clip(rgb, 0, 255)  \n",
    "\n",
    "def r_crop(img, width, up_width):            \n",
    "    x = np.random.randint(width, up_width+1)\n",
    "    img = cv2.resize(img, (x, x))\n",
    "    ws = np.random.randint(x-width+1)\n",
    "    hs = np.random.randint(x-width+1)\n",
    "    return img[ws:ws+width, hs:hs+width,:] \n",
    "\n",
    "def get_img(key, num=12, hflip_mode=1, color_var=0.2, width=171, up_width=203, nth=0, nth_e=4, rgb=True):\n",
    "    n_imgs = key[1]\n",
    "    nn = num//n_imgs\n",
    "    \n",
    "    imgs = []\n",
    "    for i in range(nth, min(n_imgs, nth_e)):\n",
    "        fn='test/%d-%d.jpg'%(key[0], i)\n",
    "        img2 = cv2.imread(fn)            \n",
    "        \n",
    "        if rgb == True:\n",
    "            img2 = img2[:,:,::-1]\n",
    "            \n",
    "        for j in range(nn):\n",
    "            img = img2.copy()\n",
    "            img = r_crop(img, width, up_width)\n",
    "\n",
    "            if color_var > 0:\n",
    "                img = color(img, color_var)\n",
    "            \n",
    "            if hflip_mode == 1:\n",
    "                hflip_prob = 0.5\n",
    "            elif hflip_mode == 2 and nn > 1:\n",
    "                hflip_prob = j/(nn-1)\n",
    "            else:\n",
    "                hflip_prob = j%2\n",
    "            \n",
    "            if np.random.random() < hflip_prob:\n",
    "                img = img[:, ::-1]\n",
    "            \n",
    "            imgs.append(img.astype('float32')/127.5 - 1)\n",
    "    return np.array(imgs)"
   ]
  },
  {
   "cell_type": "code",
   "execution_count": null,
   "metadata": {},
   "outputs": [],
   "source": [
    "test_imgs = pd.read_csv('test_imgs.csv').values[:,[1,2]]\n",
    "\n",
    "def Predict_a3(sub_set = 'a3'):\n",
    "    weights_file = 'weights/%s.h5'%sub_set\n",
    "    model.load_weights(weights_file)\n",
    "    print(weights_file)\n",
    "\n",
    "    n = 1768182\n",
    "    inn=[12,16,18,24]\n",
    "    nth_e = 4\n",
    "    nth   = 0\n",
    "    \n",
    "    if sub_set == 'a3_n1':\n",
    "        nth_e = 1\n",
    "        \n",
    "    if sub_set == 'a3_n6':\n",
    "        nth = 1\n",
    "    \n",
    "    for i in range(n):\n",
    "        key = test_imgs[i]\n",
    "        n_imgs = key[1]\n",
    "\n",
    "        if sub_set == 'a3_x1' and n_imgs != 1 : continue\n",
    "        if sub_set == 'a3_x2' and n_imgs != 2 : continue\n",
    "        if sub_set == 'a3_x3' and n_imgs != 3 : continue\n",
    "        if sub_set == 'a3_x4' and n_imgs != 4 : continue\n",
    "        if sub_set == 'a3_n6' and n_imgs == 1 : continue\n",
    "\n",
    "        num=inn[n_imgs-1]\n",
    "        imgs = get_img(key, num=num, hflip_mode=2, color_var=0.2, width=171, up_width=203, nth=nth, nth_e=nth_e)\n",
    "        pred = model.predict(imgs) \n",
    "\n",
    "        score = []\n",
    "        n1 = num//n_imgs\n",
    "        \n",
    "        for n in range(min(n_imgs, nth_e)-nth):\n",
    "            score.append(np.mean(pred[n1*n:n1*(n+1)], axis=0))\n",
    "            \n",
    "        np.save('predict/%s/%d'%(sub_set, i), score)\n",
    "\n",
    "\n",
    "def Predict_v2(sub_set = 'v2'):\n",
    "    weights_file = 'weights/%s.h5'%sub_set\n",
    "    model.load_weights(weights_file)\n",
    "    print(weights_file)\n",
    "\n",
    "    n = 1768182\n",
    "    inn=[12,16,18,24]\n",
    "    nth_e = 4\n",
    "    nth   = 0\n",
    "    \n",
    "    if sub_set == 'v2_n1':\n",
    "        nth_e = 1\n",
    "        \n",
    "    for i in range(n):\n",
    "        key = test_imgs[i]\n",
    "        n_imgs = key[1]\n",
    "\n",
    "        if sub_set == 'v2_x1' and n_imgs != 1 : continue\n",
    "\n",
    "        num=inn[n_imgs-1]\n",
    "        imgs = get_img(key, num=num, hflip_mode=2, color_var=0, width=171, up_width=203, nth=nth, nth_e=nth_e, rgb=False)\n",
    "        pred = model.predict(imgs) \n",
    "\n",
    "        score = []\n",
    "        n1 = num//n_imgs\n",
    "        \n",
    "        for n in range(min(n_imgs, nth_e)-nth):\n",
    "            score.append(np.mean(pred[n1*n:n1*(n+1)], axis=0))\n",
    "            \n",
    "        np.save('predict/%s/%d'%(sub_set, i), score)\n"
   ]
  },
  {
   "cell_type": "code",
   "execution_count": null,
   "metadata": {},
   "outputs": [],
   "source": [
    "for sub_set in a3:\n",
    "    Predict_a3(sub_set)\n",
    "    \n",
    "for sub_set in v2:\n",
    "    Predict_v2(sub_set)"
   ]
  }
 ],
 "metadata": {
  "kernelspec": {
   "display_name": "Python 3",
   "language": "python",
   "name": "python3"
  },
  "language_info": {
   "codemirror_mode": {
    "name": "ipython",
    "version": 3
   },
   "file_extension": ".py",
   "mimetype": "text/x-python",
   "name": "python",
   "nbconvert_exporter": "python",
   "pygments_lexer": "ipython3",
   "version": "3.6.3"
  },
  "widgets": {
   "state": {
    "54934db1f7b645ceb1e0b656ae02278e": {
     "views": [
      {
       "cell_index": 6
      }
     ]
    }
   },
   "version": "1.2.0"
  }
 },
 "nbformat": 4,
 "nbformat_minor": 2
}
